{
  "nbformat": 4,
  "nbformat_minor": 0,
  "metadata": {
    "colab": {
      "provenance": []
    },
    "kernelspec": {
      "name": "python3",
      "display_name": "Python 3"
    },
    "language_info": {
      "name": "python"
    }
  },
  "cells": [
    {
      "cell_type": "code",
      "execution_count": null,
      "metadata": {
        "id": "gIaun_Prp_e-"
      },
      "outputs": [],
      "source": [
        "import pandas as pd\n",
        "from sklearn.model_selection import train_test_split\n",
        "from sklearn.feature_extraction.text import TfidfVectorizer\n",
        "from sklearn.svm import SVC\n",
        "from sklearn.pipeline import make_pipeline\n",
        "\n",
        "# Load the CSV file\n",
        "data = pd.read_csv(\"spam.csv\", encoding='latin-1')\n",
        "\n",
        "# Preprocess the data\n",
        "data = data.rename(columns={'v1': 'label', 'v2': 'message'})\n",
        "data = data[['label', 'message']]\n",
        "data['label'] = data['label'].map({'ham': 0, 'spam': 1})\n",
        "\n",
        "# Split data into training and test sets\n",
        "X_train, X_test, y_train, y_test = train_test_split(data['message'], data['label'], test_size=0.2, random_state=42)\n",
        "\n",
        "# Create a pipeline with TF-IDF vectorizer and SVM\n",
        "model = make_pipeline(TfidfVectorizer(stop_words='english'), SVC(kernel='linear', probability=True))\n",
        "\n",
        "# Train the model\n",
        "model.fit(X_train, y_train)\n",
        "\n",
        "# Function to predict and get probability\n",
        "def predict_message(message):\n",
        "    prediction = model.predict([message])[0]\n",
        "    probability = model.predict_proba([message])[0][prediction]\n",
        "    label = 'spam' if prediction == 1 else 'not spam'\n",
        "    return label, probability"
      ]
    },
    {
      "cell_type": "code",
      "source": [
        "user_input = input(\"Enter an SMS message: \")\n",
        "label, probability = predict_message(user_input)\n",
        "print(f\"The message is classified as '{label}' with a probability of {probability:.2f}\")"
      ],
      "metadata": {
        "colab": {
          "base_uri": "https://localhost:8080/"
        },
        "id": "Fq7M7HhGqev_",
        "outputId": "e0323b0a-e3c0-48e6-c989-30264229d6dc"
      },
      "execution_count": null,
      "outputs": [
        {
          "output_type": "stream",
          "name": "stdout",
          "text": [
            "Enter an SMS message: Congratulations! You've been selected to receive a free $1000 gift card! Just click here to claim your prize: www.freegiftcard.com\n",
            "The message is classified as 'spam' with a probability of 1.00\n"
          ]
        }
      ]
    }
  ]
}